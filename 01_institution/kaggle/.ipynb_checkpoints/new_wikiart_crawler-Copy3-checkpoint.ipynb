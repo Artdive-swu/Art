{
 "cells": [
  {
   "cell_type": "code",
   "execution_count": 5,
   "metadata": {},
   "outputs": [],
   "source": [
    "import pandas as pd\n",
    "import requests\n",
    "from bs4 import BeautifulSoup\n",
    "from ast import literal_eval"
   ]
  },
  {
   "cell_type": "code",
   "execution_count": 6,
   "metadata": {},
   "outputs": [
    {
     "name": "stdout",
     "output_type": "stream",
     "text": [
      "(103251, 4)\n"
     ]
    },
    {
     "data": {
      "text/html": [
       "<div>\n",
       "<style scoped>\n",
       "    .dataframe tbody tr th:only-of-type {\n",
       "        vertical-align: middle;\n",
       "    }\n",
       "\n",
       "    .dataframe tbody tr th {\n",
       "        vertical-align: top;\n",
       "    }\n",
       "\n",
       "    .dataframe thead th {\n",
       "        text-align: right;\n",
       "    }\n",
       "</style>\n",
       "<table border=\"1\" class=\"dataframe\">\n",
       "  <thead>\n",
       "    <tr style=\"text-align: right;\">\n",
       "      <th></th>\n",
       "      <th>Art_ID</th>\n",
       "      <th>Title</th>\n",
       "      <th>Artist</th>\n",
       "      <th>Wiki_Link</th>\n",
       "    </tr>\n",
       "    <tr>\n",
       "      <th>Column</th>\n",
       "      <th></th>\n",
       "      <th></th>\n",
       "      <th></th>\n",
       "      <th></th>\n",
       "    </tr>\n",
       "  </thead>\n",
       "  <tbody>\n",
       "    <tr>\n",
       "      <th>0</th>\n",
       "      <td>Kaggle_102257</td>\n",
       "      <td>Uriel</td>\n",
       "      <td>Barnett Newman</td>\n",
       "      <td>[https://www.wikiart.org/en/barnett-newman/uri...</td>\n",
       "    </tr>\n",
       "    <tr>\n",
       "      <th>1</th>\n",
       "      <td>Kaggle_75232</td>\n",
       "      <td>Vir Heroicus Sublimis</td>\n",
       "      <td>Barnett Newman</td>\n",
       "      <td>[https://www.wikiart.org/en/barnett-newman/vir...</td>\n",
       "    </tr>\n",
       "    <tr>\n",
       "      <th>2</th>\n",
       "      <td>Kaggle_32145</td>\n",
       "      <td>NaN</td>\n",
       "      <td>Kiri Nichol</td>\n",
       "      <td>[]</td>\n",
       "    </tr>\n",
       "    <tr>\n",
       "      <th>3</th>\n",
       "      <td>Kaggle_20304</td>\n",
       "      <td>NaN</td>\n",
       "      <td>Kiri Nichol</td>\n",
       "      <td>[]</td>\n",
       "    </tr>\n",
       "    <tr>\n",
       "      <th>4</th>\n",
       "      <td>Kaggle_836</td>\n",
       "      <td>NaN</td>\n",
       "      <td>Kiri Nichol</td>\n",
       "      <td>[]</td>\n",
       "    </tr>\n",
       "  </tbody>\n",
       "</table>\n",
       "</div>"
      ],
      "text/plain": [
       "               Art_ID                  Title          Artist  \\\n",
       "Column                                                         \n",
       "0       Kaggle_102257                  Uriel  Barnett Newman   \n",
       "1        Kaggle_75232  Vir Heroicus Sublimis  Barnett Newman   \n",
       "2        Kaggle_32145                    NaN     Kiri Nichol   \n",
       "3        Kaggle_20304                    NaN     Kiri Nichol   \n",
       "4          Kaggle_836                    NaN     Kiri Nichol   \n",
       "\n",
       "                                                Wiki_Link  \n",
       "Column                                                     \n",
       "0       [https://www.wikiart.org/en/barnett-newman/uri...  \n",
       "1       [https://www.wikiart.org/en/barnett-newman/vir...  \n",
       "2                                                      []  \n",
       "3                                                      []  \n",
       "4                                                      []  "
      ]
     },
     "execution_count": 6,
     "metadata": {},
     "output_type": "execute_result"
    }
   ],
   "source": [
    "new_kaggle = pd.read_csv('kaggle_wikilink.csv', index_col = 'Column', converters={\"Wiki_Link\": literal_eval})\n",
    "\n",
    "print(new_kaggle.shape)\n",
    "new_kaggle.head(5)"
   ]
  },
  {
   "cell_type": "code",
   "execution_count": null,
   "metadata": {},
   "outputs": [
    {
     "name": "stdout",
     "output_type": "stream",
     "text": [
      "10000 https://www.wikiart.org/en/maurice-prendergast/madison-square-1901\n",
      "10001 https://www.wikiart.org/en/max-ernst/lust-for-life-1936\n",
      "10002 https://www.wikiart.org/en/utagawa-kunisada/sexual-life-rules\n",
      "10003 https://www.wikiart.org/en/jean-auguste-dominique-ingres/victor-dourlen\n",
      "10004 https://www.wikiart.org/en/edgar-degas/lake-and-mountains\n",
      "10005 https://www.wikiart.org/en/francesco-hayez/ulysses-at-the-court-of-alcinous\n",
      "10006 https://www.wikiart.org/en/maurice-prendergast/st-mark-s-venice-1898\n",
      "10007 10008 https://www.wikiart.org/en/thomas-eakins/study-for-the-fairman-rogers-four-in-hand-1879\n",
      "10009 https://www.wikiart.org/en/carl-spitzweg/walk-with-the-institute\n",
      "10010 10011 https://www.wikiart.org/en/vincent-van-gogh/lilac-bush-1889\n",
      "10012 https://www.wikiart.org/en/erte/statue-of-liberty\n",
      "10013 https://www.wikiart.org/en/rudolf-von-alt/hof-church-in-vienna-1892\n",
      "10014 https://www.wikiart.org/en/jacques-louis-david/portrait-of-antoine-laurent-and-marie-anne-lavoisier\n",
      "10015 10016 https://www.wikiart.org/en/caspar-david-friedrich/wc-cdfriedrich-am-morgen-ausfahrende-boote\n",
      "10017 10018 https://www.wikiart.org/en/mary-cassatt/lydia-at-the-tapestry-loom-1881\n",
      "10019 https://www.wikiart.org/en/john-william-godward/endymion-1893\n",
      "10020 10021 https://www.wikiart.org/en/erte/oriental\n"
     ]
    }
   ],
   "source": [
    "for i in range(10000, 20000):\n",
    "    print(i, end=' ')\n",
    "    links = new_kaggle.loc[i, 'Wiki_Link']\n",
    "    \n",
    "    if len(links) == 0:\n",
    "        new_kaggle.loc[i, 'tmp'] = 'no_link'\n",
    "    elif len(links) > 1:\n",
    "        new_kaggle.loc[i, 'tmp'] = 'check'\n",
    "    else:\n",
    "        url = links[0]\n",
    "\n",
    "        print(url)\n",
    "        \n",
    "        response = requests.get(url)  \n",
    "        html = response.text\n",
    "\n",
    "        soup = BeautifulSoup(html, 'html.parser')\n",
    "\n",
    "        article = soup.select_one('article')\n",
    "        for info in article.select('.dictionary-values'):\n",
    "            info = info.text\n",
    "            key, value = info.split(':')\n",
    "            \n",
    "            new_kaggle.loc[i, f'{key.strip()}'] = value.strip()"
   ]
  },
  {
   "cell_type": "code",
   "execution_count": null,
   "metadata": {},
   "outputs": [],
   "source": []
  },
  {
   "cell_type": "code",
   "execution_count": null,
   "metadata": {},
   "outputs": [],
   "source": []
  },
  {
   "cell_type": "code",
   "execution_count": null,
   "metadata": {},
   "outputs": [],
   "source": []
  },
  {
   "cell_type": "code",
   "execution_count": null,
   "metadata": {},
   "outputs": [],
   "source": []
  },
  {
   "cell_type": "code",
   "execution_count": null,
   "metadata": {},
   "outputs": [],
   "source": []
  },
  {
   "cell_type": "code",
   "execution_count": null,
   "metadata": {},
   "outputs": [],
   "source": []
  },
  {
   "cell_type": "code",
   "execution_count": 103,
   "metadata": {},
   "outputs": [
    {
     "name": "stdout",
     "output_type": "stream",
     "text": [
      "<li class=\"dictionary-values\">\n",
      "<s>Style:</s>\n",
      "<span>\n",
      "<a href=\"/en/paintings-by-style/yamato-e\" target=\"_self\">Yamato-e</a>\n",
      "</span>\n",
      "</li>\n",
      "\n",
      "Style Yamato-e\n",
      "<li class=\"dictionary-values\">\n",
      "<s>Genre:</s>\n",
      "<span>\n",
      "<a href=\"/en/paintings-by-genre/mythological-painting\" target=\"_self\"><span itemprop=\"genre\">mythological painting</span></a>\n",
      "</span>\n",
      "</li>\n",
      "\n",
      "Genre mythological painting\n"
     ]
    }
   ],
   "source": [
    "url = 'https://www.wikiart.org/en/tosa-mitsuoki/night-march-of-a-hundred-demons-left-half'\n",
    "\n",
    "response = requests.get(url)  \n",
    "html = response.text\n",
    "\n",
    "soup = BeautifulSoup(html, 'html.parser')\n",
    "\n",
    "article = soup.select_one('article')\n",
    "# print(article.text)\n",
    "for info in article.select('.dictionary-values'):\n",
    "    info = info.text\n",
    "    key, value = info.split(':')\n",
    "    print(key.strip(), value.strip())"
   ]
  },
  {
   "cell_type": "code",
   "execution_count": 77,
   "metadata": {},
   "outputs": [
    {
     "data": {
      "text/plain": [
       "<article>\n",
       "<div class=\"overflowing-container\" is-overflowing-bind=\"showShadow\" max-height-values=\"maxHeightValues\" ng-init=\"showShadow = false; maxHeightValues={'widthOver1239': 570 * 0.5405,\n",
       "                    'widthOver759': 430 * 0.5405,\n",
       "                    'widthBelow760': 250}\" overflowing=\"\">\n",
       "<h3><a href=\"/en/app/court-metrage/brotherhood\" target=\"_self\">Brotherhood [2018]</a></h3>\n",
       "<ul>\n",
       "<li>\n",
       "<s>Directed by:</s>\n",
       "<span>\n",
       "<a href=\"javascript:;\" style=\"pointer-events:none; color:black;\" target=\"_self\">Meryam Joobeur</a>\n",
       "</span>\n",
       "</li>\n",
       "<li>\n",
       "<s>Written by:</s>\n",
       "<span>\n",
       "<a href=\"javascript:;\" style=\"pointer-events:none; color:black;\" target=\"_self\">Meryam Joobeur</a>\n",
       "</span>\n",
       "</li>\n",
       "<li>\n",
       "<s>Produced by:</s>\n",
       "<span>\n",
       "<a href=\"javascript:;\" style=\"pointer-events:none; color:black;\" target=\"_self\">Maria Gracia Turgeon</a>,        <a href=\"javascript:;\" style=\"pointer-events:none; color:black;\" target=\"_self\">Habib Attia</a>\n",
       "</span>\n",
       "</li>\n",
       "<li>\n",
       "                            Mohamed is deeply shaken when his oldest son Malik returns home after a long journey with a mysterious new wife.\n",
       "                        </li>\n",
       "</ul>\n",
       "<div class=\"text-shadow-container\" ng-show=\"showShadow\"></div>\n",
       "</div>\n",
       "<div class=\"go-to-movie\">\n",
       "<a href=\"/en/app/court-metrage/brotherhood\" target=\"_self\">Watch now</a>\n",
       "</div>\n",
       "</article>"
      ]
     },
     "execution_count": 77,
     "metadata": {},
     "output_type": "execute_result"
    }
   ],
   "source": [
    "soup.select('article')[1]"
   ]
  },
  {
   "cell_type": "code",
   "execution_count": null,
   "metadata": {},
   "outputs": [],
   "source": []
  }
 ],
 "metadata": {
  "kernelspec": {
   "display_name": "Python 3",
   "language": "python",
   "name": "python3"
  },
  "language_info": {
   "codemirror_mode": {
    "name": "ipython",
    "version": 3
   },
   "file_extension": ".py",
   "mimetype": "text/x-python",
   "name": "python",
   "nbconvert_exporter": "python",
   "pygments_lexer": "ipython3",
   "version": "3.8.5"
  }
 },
 "nbformat": 4,
 "nbformat_minor": 4
}
